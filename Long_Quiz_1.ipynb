{
  "nbformat": 4,
  "nbformat_minor": 0,
  "metadata": {
    "colab": {
      "name": "Long Quiz 1.ipynb",
      "provenance": [],
      "authorship_tag": "ABX9TyNbave4uAnfeT6q+VAYskCv",
      "include_colab_link": true
    },
    "kernelspec": {
      "name": "python3",
      "display_name": "Python 3"
    },
    "language_info": {
      "name": "python"
    }
  },
  "cells": [
    {
      "cell_type": "markdown",
      "metadata": {
        "id": "view-in-github",
        "colab_type": "text"
      },
      "source": [
        "<a href=\"https://colab.research.google.com/github/Larenz06/OOP-58002/blob/main/Long_Quiz_1.ipynb\" target=\"_parent\"><img src=\"https://colab.research.google.com/assets/colab-badge.svg\" alt=\"Open In Colab\"/></a>"
      ]
    },
    {
      "cell_type": "code",
      "execution_count": 32,
      "metadata": {
        "colab": {
          "base_uri": "https://localhost:8080/"
        },
        "id": "84rCMI5ha4xi",
        "outputId": "73f6a7cd-99ca-45ee-ab94-bdc674cb22a3"
      },
      "outputs": [
        {
          "output_type": "stream",
          "name": "stdout",
          "text": [
            "Enter a temperature in Celsius to be converted to Fahrenheit: 2.5\n",
            "The temperature in Fahrenheit is 36.5°F\n"
          ]
        }
      ],
      "source": [
        "class Temperature:  \n",
        "    ### Temperature class with an attribute 'Celsius'\n",
        "    def __init__(self, Celsius):\n",
        "        self.Celsius = Celsius\n",
        "    \n",
        "    ### Fahrenheit method to convert given temperature to Fahrenheit\n",
        "    def Fahrenheit(self):\n",
        "        temp = (((9/5) * self.Celsius) + 32)\n",
        "        return str(temp)\n",
        "\n",
        "\n",
        "\n",
        "### Asks the user to input a temperature in Celsius\n",
        "Celsius = float(input(\"Enter a temperature in Celsius to be converted to Fahrenheit: \"))\n",
        "    \n",
        "Display = Temperature(Celsius)\n",
        "    \n",
        "print(\"The temperature in Fahrenheit is \" + Display.Fahrenheit() + \"°F\")"
      ]
    },
    {
      "cell_type": "markdown",
      "source": [
        ""
      ],
      "metadata": {
        "id": "mYqb96P1qI8l"
      }
    }
  ]
}