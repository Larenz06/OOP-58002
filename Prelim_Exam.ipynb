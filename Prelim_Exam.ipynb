{
  "nbformat": 4,
  "nbformat_minor": 0,
  "metadata": {
    "colab": {
      "name": "Prelim Exam.ipynb",
      "provenance": [],
      "authorship_tag": "ABX9TyOFlOiLUYAwhL2Vi74iYBav",
      "include_colab_link": true
    },
    "kernelspec": {
      "name": "python3",
      "display_name": "Python 3"
    },
    "language_info": {
      "name": "python"
    }
  },
  "cells": [
    {
      "cell_type": "markdown",
      "metadata": {
        "id": "view-in-github",
        "colab_type": "text"
      },
      "source": [
        "<a href=\"https://colab.research.google.com/github/Larenz06/OOP-58002/blob/main/Prelim_Exam.ipynb\" target=\"_parent\"><img src=\"https://colab.research.google.com/assets/colab-badge.svg\" alt=\"Open In Colab\"/></a>"
      ]
    },
    {
      "cell_type": "code",
      "execution_count": 32,
      "metadata": {
        "colab": {
          "base_uri": "https://localhost:8080/"
        },
        "id": "UcS7tZSVI9t5",
        "outputId": "0328ff7c-c64a-427b-d084-99d5cd43baca"
      },
      "outputs": [
        {
          "output_type": "stream",
          "name": "stdout",
          "text": [
            "I am Operaña, Larenz Sandrei and My Number is 20211302419 I'm currently 19 and studying in Adamson University\n",
            "My course is BS Computer Engeering\n"
          ]
        }
      ],
      "source": [
        "class Person:\n",
        " def __init__(self, name, number, age, school, course):\n",
        "  self.name = name\n",
        "  self.number = number\n",
        "  self.age = age\n",
        "  self.school = school\n",
        "  self.course = course\n",
        "\n",
        " def myFunction(self):\n",
        "  print(\"I am\",self.name, \"and My Number is\",self.number ,\"I'm currently\",self.age, \"and studying in\",self.school)\n",
        "  print(\"My course is\",self.course)\n",
        "\n",
        " p1 = Person(\"Operaña, Larenz Sandrei\", 20211302419, 19, \"Adamson University\", \"BS Computer Engeering\")\n",
        " p1.myFunction()"
      ]
    }
  ]
}