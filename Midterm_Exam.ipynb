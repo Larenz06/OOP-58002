{
  "nbformat": 4,
  "nbformat_minor": 0,
  "metadata": {
    "colab": {
      "name": "Midterm Exam.ipynb",
      "provenance": [],
      "authorship_tag": "ABX9TyPCMilW+PG387ZJOxExB85h",
      "include_colab_link": true
    },
    "kernelspec": {
      "name": "python3",
      "display_name": "Python 3"
    },
    "language_info": {
      "name": "python"
    }
  },
  "cells": [
    {
      "cell_type": "markdown",
      "metadata": {
        "id": "view-in-github",
        "colab_type": "text"
      },
      "source": [
        "<a href=\"https://colab.research.google.com/github/Larenz06/OOP-58002/blob/main/Midterm_Exam.ipynb\" target=\"_parent\"><img src=\"https://colab.research.google.com/assets/colab-badge.svg\" alt=\"Open In Colab\"/></a>"
      ]
    },
    {
      "cell_type": "code",
      "execution_count": 14,
      "metadata": {
        "colab": {
          "base_uri": "https://localhost:8080/"
        },
        "id": "g3l_g_uqWNB_",
        "outputId": "6330c7b5-3751-44c3-abee-fec97b5cb141"
      },
      "outputs": [
        {
          "output_type": "stream",
          "name": "stdout",
          "text": [
            "Enter a temperature: 100\n",
            "Was that input Kelvin or Fahrenheit? Fahrenheit\n",
            "37.77777777777778 Celsius\n"
          ]
        }
      ],
      "source": [
        "def main():\n",
        "    class TemperatureConversion:\n",
        "        def __init__(self, temp=1):\n",
        "            self._temp = temp\n",
        "\n",
        "    class FahrenheittoCelsius(TemperatureConversion):\n",
        "        def conversion(self):\n",
        "            return (self._temp - 32)*5/9\n",
        "\n",
        "    class KelvinToCelsius(TemperatureConversion):\n",
        "        def conversion(self):\n",
        "            return self._temp - 273.15\n",
        "\n",
        "    tempInCelsius = float(input(\"Enter a temperature: \"))\n",
        "\n",
        "    choice = input(\"Was that input Kelvin or Fahrenheit? \")\n",
        "\n",
        "    if choice == \"Kelvin\" :\n",
        "        convert = KelvinToCelsius(tempInCelsius)\n",
        "        print(str(convert.conversion()) + \" Celsius\")\n",
        "    elif choice == \"Fahrenheit\" :\n",
        "        convert = FahrenheittoCelsius(tempInCelsius)\n",
        "        print(str(convert.conversion()) + \" Celsius\")\n",
        "\n",
        "main()"
      ]
    }
  ]
}